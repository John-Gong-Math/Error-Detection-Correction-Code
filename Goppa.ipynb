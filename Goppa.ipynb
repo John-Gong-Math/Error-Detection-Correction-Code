{
 "cells": [
  {
   "cell_type": "code",
   "execution_count": 14,
   "metadata": {},
   "outputs": [
    {
     "data": {
      "text/plain": [
       "Finite Field in a of size 2^5"
      ]
     },
     "execution_count": 14,
     "metadata": {},
     "output_type": "execute_result"
    }
   ],
   "source": [
    "F.<a>=GF(2^5); F"
   ]
  },
  {
   "cell_type": "code",
   "execution_count": 15,
   "metadata": {},
   "outputs": [
    {
     "data": {
      "text/plain": [
       "Univariate Polynomial Ring in z over Finite Field in a of size 2^5"
      ]
     },
     "execution_count": 15,
     "metadata": {},
     "output_type": "execute_result"
    }
   ],
   "source": [
    "R.<z>=PolynomialRing(F);R"
   ]
  },
  {
   "cell_type": "code",
   "execution_count": 16,
   "metadata": {},
   "outputs": [
    {
     "data": {
      "text/plain": [
       "[0,\n",
       " a,\n",
       " a^2,\n",
       " a^4,\n",
       " a^2 + 1,\n",
       " a^3 + a,\n",
       " a^4 + a^2,\n",
       " a^3 + a^2 + 1,\n",
       " a^4 + a^3 + a,\n",
       " a^4 + 1,\n",
       " a^2 + a + 1,\n",
       " a^3 + a^2 + a,\n",
       " a^4 + a^3 + a^2,\n",
       " a^4 + a^3 + a^2 + 1,\n",
       " a^4 + a^3 + a^2 + a + 1,\n",
       " a^4 + a^3 + a + 1,\n",
       " a^4 + a + 1,\n",
       " a + 1,\n",
       " a^2 + a,\n",
       " a^3 + a^2,\n",
       " a^4 + a^3,\n",
       " a^4 + a^2 + 1,\n",
       " a^3 + a^2 + a + 1,\n",
       " a^4 + a^3 + a^2 + a,\n",
       " a^4 + a^3 + 1,\n",
       " a^4 + a^2 + a + 1,\n",
       " a^3 + a + 1,\n",
       " a^4 + a^2 + a,\n",
       " a^3 + 1,\n",
       " a^4 + a,\n",
       " 1]"
      ]
     },
     "execution_count": 16,
     "metadata": {},
     "output_type": "execute_result"
    }
   ],
   "source": [
    "g=z-a^3\n",
    "L = [b for b in F.list() if g(b) != 0]; L"
   ]
  },
  {
   "cell_type": "code",
   "execution_count": 17,
   "metadata": {},
   "outputs": [
    {
     "data": {
      "text/plain": [
       "[31, 26] Goppa code over GF(2)"
      ]
     },
     "execution_count": 17,
     "metadata": {},
     "output_type": "execute_result"
    }
   ],
   "source": [
    "C = codes.GoppaCode(g, L); C"
   ]
  },
  {
   "cell_type": "code",
   "execution_count": 18,
   "metadata": {},
   "outputs": [
    {
     "data": {
      "text/plain": [
       "3"
      ]
     },
     "execution_count": 18,
     "metadata": {},
     "output_type": "execute_result"
    }
   ],
   "source": [
    "C.minimum_distance()"
   ]
  },
  {
   "cell_type": "code",
   "execution_count": null,
   "metadata": {},
   "outputs": [],
   "source": []
  }
 ],
 "metadata": {
  "kernelspec": {
   "display_name": "SageMath 9.0",
   "language": "sage",
   "name": "sagemath"
  },
  "language_info": {
   "codemirror_mode": {
    "name": "ipython",
    "version": 3
   },
   "file_extension": ".py",
   "mimetype": "text/x-python",
   "name": "python",
   "nbconvert_exporter": "python",
   "pygments_lexer": "ipython3",
   "version": "3.7.3"
  }
 },
 "nbformat": 4,
 "nbformat_minor": 2
}
