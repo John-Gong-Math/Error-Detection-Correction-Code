{
 "cells": [
  {
   "cell_type": "code",
   "execution_count": 38,
   "metadata": {},
   "outputs": [],
   "source": [
    "def WelchBerlekampAlgo(F, r, locali, n, k):\n",
    "    t=(n-k)/2      # weight of error\n",
    "    M=matrix(F, n+1, n)  # matrix over F where each column is {1..alphai^(n-t-1), gamai .. gamai*alpha^(t)}\n",
    "    for i in [0 .. n-1]:\n",
    "         M[:, i]=vector(([locali[i]^j for j in [0 .. n-t-1] ] + [r[i]*locali[i]^s for s in [0 .. t]]))        \n",
    "    L=M.left_kernel().basis()[0]\n",
    "    R.<x>=PolynomialRing(F)\n",
    "    Q0=L[0]\n",
    "    for l in [1 .. n-t-1]:\n",
    "        Q0=Q0+L[l]*x^l\n",
    "    Q1=L[n-t]\n",
    "    for m in [n-t+1 .. n]:\n",
    "        Q1=Q1+L[m]*x^(m-n+t)\n",
    "    return Q0//Q1"
   ]
  },
  {
   "cell_type": "code",
   "execution_count": 39,
   "metadata": {},
   "outputs": [
    {
     "data": {
      "text/plain": [
       "x^2 + (a^3 + a)*x + a^2"
      ]
     },
     "execution_count": 39,
     "metadata": {},
     "output_type": "execute_result"
    }
   ],
   "source": [
    "s = 4 \n",
    "k = 3\n",
    "n = 2^s-1\n",
    "q = 2^s\n",
    "F = GF(2^s,'a')\n",
    "a = F.gen()\n",
    "R.<X> = PolynomialRing(F)\n",
    "locali = [a^j for j in [0 .. n-1]];\n",
    "r = [a^3 + a^2 + a + 1,\n",
    " a^2 + a + 1,\n",
    " a^3 + a^2 + a,\n",
    " a^2 + a + 1,\n",
    " a^3 + a^2,\n",
    " a^3 + a,\n",
    " a^3 + a,\n",
    " a^2 + a,\n",
    " a,\n",
    " a^3 + a,\n",
    " a,\n",
    " a^2 + 1,\n",
    " a,\n",
    " 1,\n",
    " a^2 + a]\n",
    "WelchBerlekampAlgo(F, r, locali, n, k)"
   ]
  },
  {
   "cell_type": "code",
   "execution_count": 15,
   "metadata": {},
   "outputs": [
    {
     "data": {
      "text/plain": [
       "[1 1]\n",
       "[1 0]"
      ]
     },
     "execution_count": 15,
     "metadata": {},
     "output_type": "execute_result"
    }
   ],
   "source": [
    "M=matrix(ZZ, [[1,1], [1,0]]); M"
   ]
  },
  {
   "cell_type": "code",
   "execution_count": 16,
   "metadata": {},
   "outputs": [
    {
     "data": {
      "text/plain": [
       "Free module of degree 2 and rank 2 over Integer Ring\n",
       "Echelon basis matrix:\n",
       "[1 0]\n",
       "[0 1]"
      ]
     },
     "execution_count": 16,
     "metadata": {},
     "output_type": "execute_result"
    }
   ],
   "source": [
    "V=M.row_space(); V"
   ]
  },
  {
   "cell_type": "code",
   "execution_count": 36,
   "metadata": {},
   "outputs": [
    {
     "data": {
      "text/plain": [
       "[1 3]\n",
       "[2 4]"
      ]
     },
     "execution_count": 36,
     "metadata": {},
     "output_type": "execute_result"
    }
   ],
   "source": [
    "A=matrix(ZZ, 2, 2)\n",
    "A[:, 0]=vector([1,2])\n",
    "A[:, 1]=vector([3, 4])\n",
    "A\n"
   ]
  },
  {
   "cell_type": "code",
   "execution_count": 40,
   "metadata": {},
   "outputs": [
    {
     "data": {
      "text/plain": [
       "[1]\n",
       "[2]"
      ]
     },
     "execution_count": 40,
     "metadata": {},
     "output_type": "execute_result"
    }
   ],
   "source": [
    "A[:,0]"
   ]
  },
  {
   "cell_type": "code",
   "execution_count": null,
   "metadata": {},
   "outputs": [],
   "source": []
  }
 ],
 "metadata": {
  "kernelspec": {
   "display_name": "SageMath 9.0",
   "language": "sage",
   "name": "sagemath"
  },
  "language_info": {
   "codemirror_mode": {
    "name": "ipython",
    "version": 3
   },
   "file_extension": ".py",
   "mimetype": "text/x-python",
   "name": "python",
   "nbconvert_exporter": "python",
   "pygments_lexer": "ipython3",
   "version": "3.7.3"
  }
 },
 "nbformat": 4,
 "nbformat_minor": 2
}
