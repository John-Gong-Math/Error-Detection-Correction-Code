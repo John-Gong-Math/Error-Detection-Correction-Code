{
 "cells": [
  {
   "cell_type": "code",
   "execution_count": 1,
   "metadata": {},
   "outputs": [],
   "source": [
    "def cyclotomic_class(n, q, s):\n",
    "    # calculate the q-cyclotomic class of s in (Z/nZ)*\n",
    "    if n.gcd(q)>1:\n",
    "        return False\n",
    "    # since X^n-1 is separable over F_q\n",
    "    C=[s]\n",
    "    t=s*q %n\n",
    "    while not (t==s):\n",
    "        C=C+[t]\n",
    "        t=t*q %n\n",
    "    return C\n",
    "        \n",
    "    \n",
    "    "
   ]
  },
  {
   "cell_type": "code",
   "execution_count": 2,
   "metadata": {},
   "outputs": [
    {
     "data": {
      "text/plain": [
       "[1, 2, 4, 8, 16, 9, 18, 13, 3, 6, 12]"
      ]
     },
     "execution_count": 2,
     "metadata": {},
     "output_type": "execute_result"
    }
   ],
   "source": [
    "cyclotomic_class(23,2,1)"
   ]
  },
  {
   "cell_type": "code",
   "execution_count": 3,
   "metadata": {},
   "outputs": [],
   "source": [
    "def all_cyclotomic_class(n, q):\n",
    "    if n.gcd(q)>1:\n",
    "        return False\n",
    "    PC=C=[0]    # put all precedent values in one list\n",
    "    AC=[C]      # list of all classes of s\n",
    "    for s in [1..n-1]:\n",
    "        if not(s in PC):\n",
    "            C= cyclotomic_class(n, q, s)\n",
    "            PC=PC+C\n",
    "            AC=AC+[C]\n",
    "    return AC"
   ]
  },
  {
   "cell_type": "code",
   "execution_count": 4,
   "metadata": {},
   "outputs": [
    {
     "data": {
      "text/plain": [
       "[[0],\n",
       " [1, 2, 4, 8, 16, 9, 18, 13, 3, 6, 12],\n",
       " [5, 10, 20, 17, 11, 22, 21, 19, 15, 7, 14]]"
      ]
     },
     "execution_count": 4,
     "metadata": {},
     "output_type": "execute_result"
    }
   ],
   "source": [
    "all_cyclotomic_class(23, 2)"
   ]
  },
  {
   "cell_type": "code",
   "execution_count": 5,
   "metadata": {},
   "outputs": [],
   "source": [
    "def order_n_element(n, q):\n",
    "    if n.gcd(q)>1:\n",
    "        return False\n",
    "    m=IntegerModRing(n)(q).multiplicative_order()\n",
    "    F.<a>=GF(q^m)          # normally a is exactly the generator of the cyclotomic extension, with order 2^m not n\n",
    "    return(a^((q^m-1) //n))  # return the power of alpha in the cyclic group\n",
    "    "
   ]
  },
  {
   "cell_type": "markdown",
   "metadata": {},
   "source": [
    "# Here 'a' only represents a root of the defined irre, other irre is primitive, then 'a' is also primitive, an example:"
   ]
  },
  {
   "cell_type": "code",
   "execution_count": 2,
   "metadata": {},
   "outputs": [
    {
     "data": {
      "text/plain": [
       "Finite Field in a0 of size 2^8"
      ]
     },
     "execution_count": 2,
     "metadata": {},
     "output_type": "execute_result"
    }
   ],
   "source": [
    "FF.<a0>=GF(2^8, modulus=x^8+x^4+x^3+x+1); FF"
   ]
  },
  {
   "cell_type": "code",
   "execution_count": 4,
   "metadata": {},
   "outputs": [
    {
     "data": {
      "text/plain": [
       "51"
      ]
     },
     "execution_count": 4,
     "metadata": {},
     "output_type": "execute_result"
    }
   ],
   "source": [
    "a0.multiplicative_order()    # 51 != 2^8-1"
   ]
  },
  {
   "cell_type": "code",
   "execution_count": 6,
   "metadata": {},
   "outputs": [
    {
     "data": {
      "text/plain": [
       "2047"
      ]
     },
     "execution_count": 6,
     "metadata": {},
     "output_type": "execute_result"
    }
   ],
   "source": [
    "F.<a>=GF(2^11); a.multiplicative_order()"
   ]
  },
  {
   "cell_type": "code",
   "execution_count": 7,
   "metadata": {},
   "outputs": [
    {
     "data": {
      "text/plain": [
       "a^8 + a^6 + a"
      ]
     },
     "execution_count": 7,
     "metadata": {},
     "output_type": "execute_result"
    }
   ],
   "source": [
    "order_n_element(23,2)"
   ]
  },
  {
   "cell_type": "code",
   "execution_count": 8,
   "metadata": {},
   "outputs": [],
   "source": [
    "def cyclotomic_poly (n, q, alpha, s, x):\n",
    "    # find the nth cyclotomic polynomial of alpha^s over F_q, or its minimum polynomial\n",
    "    F=alpha.parent()  # the nth cyclotomic extension\n",
    "    C=cyclotomic_class(n,q, s)   \n",
    "    d= len(C)    # the degree of the polynomial or the number of orbit alpha^s\n",
    "    V=F.vector_space()    # expliciting the vector space of F using the basis: 1, alpha, alpha^2 ..\n",
    "    # c_0+c_1 alpha^s+ c_2 alpha^s*s +.. =0, thus all solution is (coefficients of) minimal poly considering the degree\n",
    "    # more generally, we can relax a bit the degree constraint\n",
    "    L=[V(alpha^(s*i)) for i in [0 .. d]]\n",
    "    K=matrix(L).left_kernel().basis()\n",
    "    R.<x>=PolynomialRing(GF(q))   # construct a polynomial ring\n",
    "    P=[ K[0][i]/K[0][d]*x^i for i in [0 .. d] ]\n",
    "    return (sum(P))\n",
    "    "
   ]
  },
  {
   "cell_type": "code",
   "execution_count": 9,
   "metadata": {},
   "outputs": [
    {
     "name": "stderr",
     "output_type": "stream",
     "text": [
      "/Applications/SageMath/local/lib/python3.7/site-packages/sage/repl/ipython_kernel/__main__.py:6: DeprecationWarning: The default value for map will be changing to True.  To keep the current behavior, explicitly pass map=False.\n",
      "See https://trac.sagemath.org/28481 for details.\n"
     ]
    },
    {
     "data": {
      "text/plain": [
       "(x^11 + x^9 + x^7 + x^6 + x^5 + x + 1, x^11 + x^9 + x^7 + x^6 + x^5 + x + 1)"
      ]
     },
     "execution_count": 9,
     "metadata": {},
     "output_type": "execute_result"
    }
   ],
   "source": [
    "alpha=order_n_element(23,2)\n",
    "cyclotomic_poly(23, 2, alpha, 1, x), order_n_element(23,2).minimal_polynomial()    # directly use the mini-poly function in SageMath"
   ]
  },
  {
   "cell_type": "code",
   "execution_count": 10,
   "metadata": {},
   "outputs": [],
   "source": [
    "def fact_x_minus_1(n,q,x):\n",
    "    # factorization of x^n-1 over F_q, here we should make x as python variable for coherent transmission \n",
    "    if n.gcd(q)>1:\n",
    "        return False\n",
    "    alpha=order_n_element(n,q)\n",
    "    AC=all_cyclotomic_class(n,q)\n",
    "    return ([cyclotomic_poly(n,q, alpha, C[0], x) for C in AC])"
   ]
  },
  {
   "cell_type": "code",
   "execution_count": 11,
   "metadata": {},
   "outputs": [
    {
     "name": "stderr",
     "output_type": "stream",
     "text": [
      "/Applications/SageMath/local/lib/python3.7/site-packages/sage/repl/ipython_kernel/__main__.py:6: DeprecationWarning: The default value for map will be changing to True.  To keep the current behavior, explicitly pass map=False.\n",
      "See https://trac.sagemath.org/28481 for details.\n"
     ]
    },
    {
     "data": {
      "text/plain": [
       "([x + 1,\n",
       "  x^11 + x^9 + x^7 + x^6 + x^5 + x + 1,\n",
       "  x^11 + x^10 + x^6 + x^5 + x^4 + x^2 + 1],\n",
       " x^23 + 1)"
      ]
     },
     "execution_count": 11,
     "metadata": {},
     "output_type": "execute_result"
    }
   ],
   "source": [
    "f=fact_x_minus_1(23,2,x)\n",
    "f, mul(u for u in f)"
   ]
  },
  {
   "cell_type": "code",
   "execution_count": 12,
   "metadata": {},
   "outputs": [],
   "source": [
    "def BCH_generator(n, q, alpha, t, x):\n",
    "    # generator polynomial of a BCH code strict, over F_q, length n with distance prescribed 2*t+1\n",
    "    P=lcm([cyclotomic_poly(n,q,alpha,i,x) for i in [1 .. 2*t]])\n",
    "    return P"
   ]
  },
  {
   "cell_type": "code",
   "execution_count": 13,
   "metadata": {},
   "outputs": [
    {
     "name": "stderr",
     "output_type": "stream",
     "text": [
      "/Applications/SageMath/local/lib/python3.7/site-packages/sage/repl/ipython_kernel/__main__.py:6: DeprecationWarning: The default value for map will be changing to True.  To keep the current behavior, explicitly pass map=False.\n",
      "See https://trac.sagemath.org/28481 for details.\n"
     ]
    },
    {
     "data": {
      "text/plain": [
       "x^8 + x^4 + x^2 + x + 1"
      ]
     },
     "execution_count": 13,
     "metadata": {},
     "output_type": "execute_result"
    }
   ],
   "source": [
    "R.<x>=PolynomialRing(GF(2))\n",
    "F.<alpha>=GF(2^4, modulus=x^4+x^3+1)\n",
    "alpha.multiplicative_order()\n",
    "BCH_generator(15,2,alpha,2,x)"
   ]
  },
  {
   "cell_type": "code",
   "execution_count": 14,
   "metadata": {},
   "outputs": [],
   "source": [
    "def Extended_Euclid_bounded(a,b,t):\n",
    "    # find r_{n+1}=ua+vb where deg(r_n+1)<t and deg(r_n)>=t\n",
    "    if a.degree()>b.degree(): \n",
    "        r0=a; r1=b\n",
    "    else:\n",
    "        r0=b; r1=a\n",
    "    U0=1; U1=0\n",
    "    V0=0; V1=1\n",
    "    r,q,U,V=0,0,0,0\n",
    "    while (r0.degree()>t or r0.degree()==t):\n",
    "        q=r0//r1; r=r0%r1\n",
    "        r0=r1; r1=r\n",
    "        U=U0+q*U1; V=V0+q*V1\n",
    "        U0=U1; V0=V1\n",
    "        U1=U; V1=V   # r1=U1*a+V1*b\n",
    "    return (r0, U0, V0) # r0=U0*a+V0*b\n",
    "        "
   ]
  },
  {
   "cell_type": "code",
   "execution_count": 15,
   "metadata": {},
   "outputs": [
    {
     "data": {
      "text/plain": [
       "(a^3 + a^2, a*x + a^3 + a^2, (a^3 + a^2 + 1)*x^2 + (a^3 + a^2)*x + a^2 + 1)"
      ]
     },
     "execution_count": 15,
     "metadata": {},
     "output_type": "execute_result"
    }
   ],
   "source": [
    "# calculate TD4 exo 4\n",
    "F.<a>=GF(16, modulus=x^4+x^3+1)\n",
    "A.<x>=PolynomialRing(F)\n",
    "P=x^4\n",
    "Q=a^3+a+1+(a^3+a)*x+(a^2+a)*x^2+(a^3+a+1)*x^3\n",
    "Extended_Euclid_bounded(P,Q,2)  "
   ]
  },
  {
   "cell_type": "code",
   "execution_count": 16,
   "metadata": {},
   "outputs": [
    {
     "data": {
      "text/plain": [
       "a^2 + 1"
      ]
     },
     "execution_count": 16,
     "metadata": {},
     "output_type": "execute_result"
    }
   ],
   "source": [
    "v=Extended_Euclid_bounded(P,Q,2)[2]\n",
    "v.subs(x=0)"
   ]
  },
  {
   "cell_type": "code",
   "execution_count": 17,
   "metadata": {},
   "outputs": [],
   "source": [
    "def De_BCH(F, n, alpha, t, x):\n",
    "    # Since our field is F_2, the return of sigma function will suffice to find the error e\n",
    "    C=[F.subs(x=alpha)]\n",
    "    for i in [2 .. 2*t]:\n",
    "        C=C+[F.subs(x=alpha^i)]\n",
    "    S=C[0]\n",
    "    for i in [1 .. 2*t-1]:\n",
    "        S=S+C[i]*x^i\n",
    "    v=Extended_Euclid_bounded(x^(2*t),S,t)[2]\n",
    "    r=Extended_Euclid_bounded(x^(2*t),S,t)[0]\n",
    "    v0=v.subs(x=0)\n",
    "    sigma=v/v0\n",
    "    w=r/v0\n",
    "    X=[]\n",
    "    for i in [0 .. n-1]:\n",
    "        if sigma.subs(x=(1/alpha^i))==0:\n",
    "            X=X+[[i, alpha^i]]  \n",
    "    return X     # X[n]=[i, alpha^i], e=sum(alpha^i)\n",
    "    \n",
    "        \n",
    "    \n",
    "    \n",
    "    \n",
    "    "
   ]
  },
  {
   "cell_type": "code",
   "execution_count": 18,
   "metadata": {},
   "outputs": [
    {
     "data": {
      "text/plain": [
       "15"
      ]
     },
     "execution_count": 18,
     "metadata": {},
     "output_type": "execute_result"
    }
   ],
   "source": [
    "# Calculate  example 27 in the course notes:\n",
    "R.<x>=PolynomialRing(GF(2))\n",
    "F.<a>=GF(2^4, modulus=x^4+x+1)\n",
    "a.multiplicative_order()"
   ]
  },
  {
   "cell_type": "code",
   "execution_count": 19,
   "metadata": {},
   "outputs": [
    {
     "data": {
      "text/plain": [
       "[[8, a^2 + 1], [14, a^3 + 1]]"
      ]
     },
     "execution_count": 19,
     "metadata": {},
     "output_type": "execute_result"
    }
   ],
   "source": [
    "F=x^5+x^4+x^3+1\n",
    "De_BCH(F, 16, a, 2, x)  # thus the errors are in the position 8e and 14e, i.e e(x)=x^8+x^14"
   ]
  },
  {
   "cell_type": "code",
   "execution_count": 21,
   "metadata": {},
   "outputs": [
    {
     "data": {
      "text/plain": [
       "[23, 12] Cyclic Code over GF(2)"
      ]
     },
     "execution_count": 21,
     "metadata": {},
     "output_type": "execute_result"
    }
   ],
   "source": [
    "C = codes.CyclicCode(generator_pol = x^11 + x^9 + x^7 + x^6 + x^5 + x + 1, length = 23); C"
   ]
  },
  {
   "cell_type": "code",
   "execution_count": 23,
   "metadata": {},
   "outputs": [
    {
     "data": {
      "text/plain": [
       "[1 1 0 0 0 1 1 1 0 1 0 1 0 0 0 0 0 0 0 0 0 0 0]\n",
       "[0 1 1 0 0 0 1 1 1 0 1 0 1 0 0 0 0 0 0 0 0 0 0]\n",
       "[0 0 1 1 0 0 0 1 1 1 0 1 0 1 0 0 0 0 0 0 0 0 0]\n",
       "[0 0 0 1 1 0 0 0 1 1 1 0 1 0 1 0 0 0 0 0 0 0 0]\n",
       "[0 0 0 0 1 1 0 0 0 1 1 1 0 1 0 1 0 0 0 0 0 0 0]\n",
       "[0 0 0 0 0 1 1 0 0 0 1 1 1 0 1 0 1 0 0 0 0 0 0]\n",
       "[0 0 0 0 0 0 1 1 0 0 0 1 1 1 0 1 0 1 0 0 0 0 0]\n",
       "[0 0 0 0 0 0 0 1 1 0 0 0 1 1 1 0 1 0 1 0 0 0 0]\n",
       "[0 0 0 0 0 0 0 0 1 1 0 0 0 1 1 1 0 1 0 1 0 0 0]\n",
       "[0 0 0 0 0 0 0 0 0 1 1 0 0 0 1 1 1 0 1 0 1 0 0]\n",
       "[0 0 0 0 0 0 0 0 0 0 1 1 0 0 0 1 1 1 0 1 0 1 0]\n",
       "[0 0 0 0 0 0 0 0 0 0 0 1 1 0 0 0 1 1 1 0 1 0 1]"
      ]
     },
     "execution_count": 23,
     "metadata": {},
     "output_type": "execute_result"
    }
   ],
   "source": [
    "MC=C.generator_matrix(); MC   # its generator matrix"
   ]
  },
  {
   "cell_type": "code",
   "execution_count": 24,
   "metadata": {},
   "outputs": [
    {
     "data": {
      "text/plain": [
       "[1 0 1 0 0 1 0 0 1 1 1 1 1 0 0 0 0 0 0 0 0 0 0]\n",
       "[0 1 0 1 0 0 1 0 0 1 1 1 1 1 0 0 0 0 0 0 0 0 0]\n",
       "[0 0 1 0 1 0 0 1 0 0 1 1 1 1 1 0 0 0 0 0 0 0 0]\n",
       "[0 0 0 1 0 1 0 0 1 0 0 1 1 1 1 1 0 0 0 0 0 0 0]\n",
       "[0 0 0 0 1 0 1 0 0 1 0 0 1 1 1 1 1 0 0 0 0 0 0]\n",
       "[0 0 0 0 0 1 0 1 0 0 1 0 0 1 1 1 1 1 0 0 0 0 0]\n",
       "[0 0 0 0 0 0 1 0 1 0 0 1 0 0 1 1 1 1 1 0 0 0 0]\n",
       "[0 0 0 0 0 0 0 1 0 1 0 0 1 0 0 1 1 1 1 1 0 0 0]\n",
       "[0 0 0 0 0 0 0 0 1 0 1 0 0 1 0 0 1 1 1 1 1 0 0]\n",
       "[0 0 0 0 0 0 0 0 0 1 0 1 0 0 1 0 0 1 1 1 1 1 0]\n",
       "[0 0 0 0 0 0 0 0 0 0 1 0 1 0 0 1 0 0 1 1 1 1 1]"
      ]
     },
     "execution_count": 24,
     "metadata": {},
     "output_type": "execute_result"
    }
   ],
   "source": [
    "MP=C.parity_check_matrix(); MP  # its parity-check matrix"
   ]
  },
  {
   "cell_type": "code",
   "execution_count": 46,
   "metadata": {},
   "outputs": [
    {
     "data": {
      "text/plain": [
       "[1 1 1 1 1 1 1 1 1 1 1 1 1 1 1 1 1 1 1 1 1 1 1|1]"
      ]
     },
     "execution_count": 46,
     "metadata": {},
     "output_type": "execute_result"
    }
   ],
   "source": [
    "I1=matrix(GF(2), 1, 23, [1 for i in [1 ..23]]); I2=matrix(GF(2), 1, 1, [1])\n",
    "block_matrix(1, 2, [I1, I2])"
   ]
  },
  {
   "cell_type": "code",
   "execution_count": 77,
   "metadata": {},
   "outputs": [
    {
     "data": {
      "text/plain": [
       "[0 0 0 0 0 0 0 0 0 0 0]"
      ]
     },
     "execution_count": 77,
     "metadata": {},
     "output_type": "execute_result"
    }
   ],
   "source": [
    "Z0=matrix([0 for i in [1 .. 11]]); Z0"
   ]
  },
  {
   "cell_type": "code",
   "execution_count": 71,
   "metadata": {},
   "outputs": [
    {
     "data": {
      "text/plain": [
       "[1 0 1 0 0 1 0 0 1 1 1 1 1 0 0 0 0 0 0 0 0 0 0|0]\n",
       "[0 1 0 1 0 0 1 0 0 1 1 1 1 1 0 0 0 0 0 0 0 0 0|0]\n",
       "[0 0 1 0 1 0 0 1 0 0 1 1 1 1 1 0 0 0 0 0 0 0 0|0]\n",
       "[0 0 0 1 0 1 0 0 1 0 0 1 1 1 1 1 0 0 0 0 0 0 0|0]\n",
       "[0 0 0 0 1 0 1 0 0 1 0 0 1 1 1 1 1 0 0 0 0 0 0|0]\n",
       "[0 0 0 0 0 1 0 1 0 0 1 0 0 1 1 1 1 1 0 0 0 0 0|0]\n",
       "[0 0 0 0 0 0 1 0 1 0 0 1 0 0 1 1 1 1 1 0 0 0 0|0]\n",
       "[0 0 0 0 0 0 0 1 0 1 0 0 1 0 0 1 1 1 1 1 0 0 0|0]\n",
       "[0 0 0 0 0 0 0 0 1 0 1 0 0 1 0 0 1 1 1 1 1 0 0|0]\n",
       "[0 0 0 0 0 0 0 0 0 1 0 1 0 0 1 0 0 1 1 1 1 1 0|0]\n",
       "[0 0 0 0 0 0 0 0 0 0 1 0 1 0 0 1 0 0 1 1 1 1 1|0]\n",
       "[---------------------------------------------+-]\n",
       "[1 1 1 1 1 1 1 1 1 1 1 1 1 1 1 1 1 1 1 1 1 1 1|1]"
      ]
     },
     "execution_count": 71,
     "metadata": {},
     "output_type": "execute_result"
    }
   ],
   "source": [
    "Me=block_matrix(2,2,[ [MP, Z0.transpose()], [I1, I2] ]); Me"
   ]
  },
  {
   "cell_type": "code",
   "execution_count": 74,
   "metadata": {},
   "outputs": [
    {
     "data": {
      "text/plain": [
       "[24, 12] linear code over GF(2)"
      ]
     },
     "execution_count": 74,
     "metadata": {},
     "output_type": "execute_result"
    }
   ],
   "source": [
    "D=codes.LinearCode(Me).dual_code(); D"
   ]
  },
  {
   "cell_type": "code",
   "execution_count": 75,
   "metadata": {},
   "outputs": [
    {
     "data": {
      "text/plain": [
       "True"
      ]
     },
     "execution_count": 75,
     "metadata": {},
     "output_type": "execute_result"
    }
   ],
   "source": [
    "D.is_self_dual()"
   ]
  }
 ],
 "metadata": {
  "kernelspec": {
   "display_name": "SageMath 9.0",
   "language": "sage",
   "name": "sagemath"
  },
  "language_info": {
   "codemirror_mode": {
    "name": "ipython",
    "version": 3
   },
   "file_extension": ".py",
   "mimetype": "text/x-python",
   "name": "python",
   "nbconvert_exporter": "python",
   "pygments_lexer": "ipython3",
   "version": "3.7.3"
  }
 },
 "nbformat": 4,
 "nbformat_minor": 2
}
